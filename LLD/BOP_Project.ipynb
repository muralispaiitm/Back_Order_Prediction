{
 "cells": [
  {
   "cell_type": "markdown",
   "metadata": {},
   "source": [
    "#### Training Dataset"
   ]
  },
  {
   "cell_type": "code",
   "execution_count": 33,
   "metadata": {},
   "outputs": [
    {
     "data": {
      "application/javascript": [
       "\n",
       "        if (window._pyforest_update_imports_cell) { window._pyforest_update_imports_cell('import numpy as np\\nimport pandas as pd'); }\n",
       "    "
      ],
      "text/plain": [
       "<IPython.core.display.Javascript object>"
      ]
     },
     "metadata": {},
     "output_type": "display_data"
    }
   ],
   "source": [
    "data = pd.read_csv(r\"D:\\DataScience\\02 INEURON\\ML_Projects\\Internal Projects (Practicing)\\Work\\Masters Projects\\Thyroid Detection\\Tyroid Project\\Files_Storage\\DataSets\\Training\\training_Hypothyroid.csv\")"
   ]
  },
  {
   "cell_type": "code",
   "execution_count": 34,
   "metadata": {},
   "outputs": [
    {
     "data": {
      "text/plain": [
       "Index(['age', 'sex', 'on_thyroxine', 'query_on_thyroxine',\n",
       "       'on_antithyroid_medication', 'sick', 'pregnant', 'thyroid_surgery',\n",
       "       'I131_treatment', 'query_hypothyroid', 'query_hyperthyroid', 'lithium',\n",
       "       'goitre', 'tumor', 'hypopituitary', 'psych', 'TSH_measured', 'TSH',\n",
       "       'T3_measured', 'T3', 'TT4_measured', 'TT4', 'T4U_measured', 'T4U',\n",
       "       'FTI_measured', 'FTI', 'TBG_measured', 'TBG', 'referral_source',\n",
       "       'hypothyroid'],\n",
       "      dtype='object')"
      ]
     },
     "execution_count": 34,
     "metadata": {},
     "output_type": "execute_result"
    }
   ],
   "source": [
    "data.columns"
   ]
  },
  {
   "cell_type": "code",
   "execution_count": 36,
   "metadata": {},
   "outputs": [],
   "source": [
    "data = data[SelectedFeatures]"
   ]
  },
  {
   "cell_type": "code",
   "execution_count": 38,
   "metadata": {},
   "outputs": [
    {
     "data": {
      "text/plain": [
       "Index([], dtype='object')"
      ]
     },
     "execution_count": 38,
     "metadata": {},
     "output_type": "execute_result"
    }
   ],
   "source": [
    "nullIndices = data.index[(data.isnull().sum(axis=1)) / len(data.columns) > 0.7]\n",
    "nullColumns = data.columns[data.isnull().sum() / len(data) > 0.7]\n",
    "nullColumns"
   ]
  },
  {
   "cell_type": "code",
   "execution_count": 40,
   "metadata": {},
   "outputs": [
    {
     "data": {
      "application/javascript": [
       "\n",
       "        if (window._pyforest_update_imports_cell) { window._pyforest_update_imports_cell('import numpy as np\\nimport pandas as pd'); }\n",
       "    "
      ],
      "text/plain": [
       "<IPython.core.display.Javascript object>"
      ]
     },
     "metadata": {},
     "output_type": "display_data"
    },
    {
     "data": {
      "text/html": [
       "<div>\n",
       "<style scoped>\n",
       "    .dataframe tbody tr th:only-of-type {\n",
       "        vertical-align: middle;\n",
       "    }\n",
       "\n",
       "    .dataframe tbody tr th {\n",
       "        vertical-align: top;\n",
       "    }\n",
       "\n",
       "    .dataframe thead th {\n",
       "        text-align: right;\n",
       "    }\n",
       "</style>\n",
       "<table border=\"1\" class=\"dataframe\">\n",
       "  <thead>\n",
       "    <tr style=\"text-align: right;\">\n",
       "      <th></th>\n",
       "      <th>age</th>\n",
       "      <th>TSH</th>\n",
       "      <th>T4U</th>\n",
       "      <th>FTI</th>\n",
       "      <th>T3</th>\n",
       "      <th>TT4</th>\n",
       "      <th>sex</th>\n",
       "    </tr>\n",
       "  </thead>\n",
       "  <tbody>\n",
       "    <tr>\n",
       "      <th>0</th>\n",
       "      <td>1</td>\n",
       "      <td>369</td>\n",
       "      <td>387</td>\n",
       "      <td>385</td>\n",
       "      <td>769</td>\n",
       "      <td>231</td>\n",
       "      <td>150</td>\n",
       "    </tr>\n",
       "  </tbody>\n",
       "</table>\n",
       "</div>"
      ],
      "text/plain": [
       "   age  TSH  T4U  FTI   T3  TT4  sex\n",
       "0    1  369  387  385  769  231  150"
      ]
     },
     "execution_count": 40,
     "metadata": {},
     "output_type": "execute_result"
    }
   ],
   "source": [
    "syntaxVal = \"?\"\n",
    "syntaxErrors = data.isin([syntaxVal]).sum()\n",
    "syntaxErrors_cols = pd.DataFrame(syntaxErrors[syntaxErrors > 0]).T\n",
    "syntaxErrors_cols"
   ]
  },
  {
   "cell_type": "code",
   "execution_count": 41,
   "metadata": {},
   "outputs": [
    {
     "data": {
      "application/javascript": [
       "\n",
       "        if (window._pyforest_update_imports_cell) { window._pyforest_update_imports_cell('import numpy as np\\nimport pandas as pd'); }\n",
       "    "
      ],
      "text/plain": [
       "<IPython.core.display.Javascript object>"
      ]
     },
     "metadata": {},
     "output_type": "display_data"
    },
    {
     "data": {
      "application/javascript": [
       "\n",
       "        if (window._pyforest_update_imports_cell) { window._pyforest_update_imports_cell('import numpy as np\\nimport pandas as pd'); }\n",
       "    "
      ],
      "text/plain": [
       "<IPython.core.display.Javascript object>"
      ]
     },
     "metadata": {},
     "output_type": "display_data"
    },
    {
     "data": {
      "application/javascript": [
       "\n",
       "        if (window._pyforest_update_imports_cell) { window._pyforest_update_imports_cell('import numpy as np\\nimport pandas as pd'); }\n",
       "    "
      ],
      "text/plain": [
       "<IPython.core.display.Javascript object>"
      ]
     },
     "metadata": {},
     "output_type": "display_data"
    },
    {
     "data": {
      "application/javascript": [
       "\n",
       "        if (window._pyforest_update_imports_cell) { window._pyforest_update_imports_cell('import numpy as np\\nimport pandas as pd'); }\n",
       "    "
      ],
      "text/plain": [
       "<IPython.core.display.Javascript object>"
      ]
     },
     "metadata": {},
     "output_type": "display_data"
    },
    {
     "data": {
      "application/javascript": [
       "\n",
       "        if (window._pyforest_update_imports_cell) { window._pyforest_update_imports_cell('import numpy as np\\nimport pandas as pd'); }\n",
       "    "
      ],
      "text/plain": [
       "<IPython.core.display.Javascript object>"
      ]
     },
     "metadata": {},
     "output_type": "display_data"
    },
    {
     "data": {
      "application/javascript": [
       "\n",
       "        if (window._pyforest_update_imports_cell) { window._pyforest_update_imports_cell('import numpy as np\\nimport pandas as pd'); }\n",
       "    "
      ],
      "text/plain": [
       "<IPython.core.display.Javascript object>"
      ]
     },
     "metadata": {},
     "output_type": "display_data"
    },
    {
     "data": {
      "application/javascript": [
       "\n",
       "        if (window._pyforest_update_imports_cell) { window._pyforest_update_imports_cell('import numpy as np\\nimport pandas as pd'); }\n",
       "    "
      ],
      "text/plain": [
       "<IPython.core.display.Javascript object>"
      ]
     },
     "metadata": {},
     "output_type": "display_data"
    }
   ],
   "source": [
    "for col in syntaxErrors_cols.columns:\n",
    "    syntaxIndex = data[data[col] == syntaxVal].index\n",
    "    data.loc[syntaxIndex, col] = np.nan"
   ]
  },
  {
   "cell_type": "code",
   "execution_count": 43,
   "metadata": {},
   "outputs": [
    {
     "data": {
      "application/javascript": [
       "\n",
       "        if (window._pyforest_update_imports_cell) { window._pyforest_update_imports_cell('import numpy as np\\nimport pandas as pd'); }\n",
       "    "
      ],
      "text/plain": [
       "<IPython.core.display.Javascript object>"
      ]
     },
     "metadata": {},
     "output_type": "display_data"
    },
    {
     "data": {
      "application/javascript": [
       "\n",
       "        if (window._pyforest_update_imports_cell) { window._pyforest_update_imports_cell('import numpy as np\\nimport pandas as pd'); }\n",
       "    "
      ],
      "text/plain": [
       "<IPython.core.display.Javascript object>"
      ]
     },
     "metadata": {},
     "output_type": "display_data"
    },
    {
     "data": {
      "text/html": [
       "<div>\n",
       "<style scoped>\n",
       "    .dataframe tbody tr th:only-of-type {\n",
       "        vertical-align: middle;\n",
       "    }\n",
       "\n",
       "    .dataframe tbody tr th {\n",
       "        vertical-align: top;\n",
       "    }\n",
       "\n",
       "    .dataframe thead th {\n",
       "        text-align: right;\n",
       "    }\n",
       "</style>\n",
       "<table border=\"1\" class=\"dataframe\">\n",
       "  <thead>\n",
       "    <tr style=\"text-align: right;\">\n",
       "      <th></th>\n",
       "      <th>age</th>\n",
       "      <th>TSH</th>\n",
       "      <th>T4U</th>\n",
       "      <th>FTI</th>\n",
       "      <th>T3</th>\n",
       "      <th>TT4</th>\n",
       "      <th>sex</th>\n",
       "    </tr>\n",
       "  </thead>\n",
       "  <tbody>\n",
       "    <tr>\n",
       "      <th>0</th>\n",
       "      <td>1</td>\n",
       "      <td>369</td>\n",
       "      <td>387</td>\n",
       "      <td>385</td>\n",
       "      <td>769</td>\n",
       "      <td>231</td>\n",
       "      <td>150</td>\n",
       "    </tr>\n",
       "  </tbody>\n",
       "</table>\n",
       "</div>"
      ],
      "text/plain": [
       "   age  TSH  T4U  FTI   T3  TT4  sex\n",
       "0    1  369  387  385  769  231  150"
      ]
     },
     "execution_count": 43,
     "metadata": {},
     "output_type": "execute_result"
    }
   ],
   "source": [
    "nullValues = data.isin([np.nan]).sum()\n",
    "nullValues_cols = pd.DataFrame(nullValues[nullValues > 0]).T\n",
    "nullValues_cols"
   ]
  },
  {
   "cell_type": "code",
   "execution_count": 46,
   "metadata": {},
   "outputs": [],
   "source": [
    "data = data.fillna(method='bfill')\n",
    "data = data.fillna(method='ffill')"
   ]
  },
  {
   "cell_type": "code",
   "execution_count": 49,
   "metadata": {},
   "outputs": [],
   "source": [
    "CategoricalFeatures = ['on_thyroxine', 'query_hypothyroid', 'sex', 'query_hyperthyroid', 'thyroid_surgery', 'tumor', 'hypothyroid']\n",
    "categoricalFeatures = CategoricalFeatures.copy()"
   ]
  },
  {
   "cell_type": "code",
   "execution_count": 19,
   "metadata": {},
   "outputs": [],
   "source": [
    "if \"hypothyroid\" in data.columns:\n",
    "    data[\"hypothyroid\"] = data[\"hypothyroid\"].map({'negative': 0, 'compensated_hypothyroid': 1, 'primary_hypothyroid': 1, 'secondary_hypothyroid': 1})"
   ]
  },
  {
   "cell_type": "code",
   "execution_count": 58,
   "metadata": {},
   "outputs": [
    {
     "ename": "SyntaxError",
     "evalue": "invalid syntax (<ipython-input-58-5723cb727bca>, line 1)",
     "output_type": "error",
     "traceback": [
      "\u001b[1;36m  File \u001b[1;32m\"<ipython-input-58-5723cb727bca>\"\u001b[1;36m, line \u001b[1;32m1\u001b[0m\n\u001b[1;33m    [(if ((val==\"N\") | (val==\"negative\")) 0 1) for val in data[\"hypothyroid\"]]\u001b[0m\n\u001b[1;37m      ^\u001b[0m\n\u001b[1;31mSyntaxError\u001b[0m\u001b[1;31m:\u001b[0m invalid syntax\n"
     ]
    }
   ],
   "source": [
    "[(if ((val==\"N\") | (val==\"negative\")) 0 1) for val in data[\"hypothyroid\"]]"
   ]
  },
  {
   "cell_type": "code",
   "execution_count": 63,
   "metadata": {},
   "outputs": [],
   "source": [
    "data[\"hypothyroid\"] = [0 if ((val==\"N\") | (val==\"negative\")) else 1 for val in data[\"hypothyroid\"] ]"
   ]
  },
  {
   "cell_type": "code",
   "execution_count": 65,
   "metadata": {},
   "outputs": [],
   "source": [
    "data[\"sex\"] = data[\"sex\"].map({\"F\": 0, \"M\": 1})"
   ]
  },
  {
   "cell_type": "code",
   "execution_count": 73,
   "metadata": {},
   "outputs": [
    {
     "data": {
      "text/html": [
       "<div>\n",
       "<style scoped>\n",
       "    .dataframe tbody tr th:only-of-type {\n",
       "        vertical-align: middle;\n",
       "    }\n",
       "\n",
       "    .dataframe tbody tr th {\n",
       "        vertical-align: top;\n",
       "    }\n",
       "\n",
       "    .dataframe thead th {\n",
       "        text-align: right;\n",
       "    }\n",
       "</style>\n",
       "<table border=\"1\" class=\"dataframe\">\n",
       "  <thead>\n",
       "    <tr style=\"text-align: right;\">\n",
       "      <th></th>\n",
       "      <th>age</th>\n",
       "      <th>TSH</th>\n",
       "      <th>T4U</th>\n",
       "      <th>FTI</th>\n",
       "      <th>T3</th>\n",
       "      <th>TT4</th>\n",
       "      <th>on_thyroxine</th>\n",
       "      <th>query_hypothyroid</th>\n",
       "      <th>sex</th>\n",
       "      <th>query_hyperthyroid</th>\n",
       "      <th>thyroid_surgery</th>\n",
       "      <th>tumor</th>\n",
       "      <th>hypothyroid</th>\n",
       "      <th>hypothyroid1</th>\n",
       "    </tr>\n",
       "  </thead>\n",
       "  <tbody>\n",
       "    <tr>\n",
       "      <th>0</th>\n",
       "      <td>41</td>\n",
       "      <td>1.3</td>\n",
       "      <td>1.14</td>\n",
       "      <td>109</td>\n",
       "      <td>2.5</td>\n",
       "      <td>125</td>\n",
       "      <td>0</td>\n",
       "      <td>0</td>\n",
       "      <td>0</td>\n",
       "      <td>0</td>\n",
       "      <td>0</td>\n",
       "      <td>0</td>\n",
       "      <td>1</td>\n",
       "      <td>1</td>\n",
       "    </tr>\n",
       "    <tr>\n",
       "      <th>1</th>\n",
       "      <td>23</td>\n",
       "      <td>4.1</td>\n",
       "      <td>0.91</td>\n",
       "      <td>120</td>\n",
       "      <td>2</td>\n",
       "      <td>102</td>\n",
       "      <td>0</td>\n",
       "      <td>0</td>\n",
       "      <td>0</td>\n",
       "      <td>0</td>\n",
       "      <td>0</td>\n",
       "      <td>0</td>\n",
       "      <td>1</td>\n",
       "      <td>1</td>\n",
       "    </tr>\n",
       "    <tr>\n",
       "      <th>2</th>\n",
       "      <td>46</td>\n",
       "      <td>0.98</td>\n",
       "      <td>0.91</td>\n",
       "      <td>120</td>\n",
       "      <td>1.9</td>\n",
       "      <td>109</td>\n",
       "      <td>0</td>\n",
       "      <td>0</td>\n",
       "      <td>1</td>\n",
       "      <td>0</td>\n",
       "      <td>0</td>\n",
       "      <td>0</td>\n",
       "      <td>1</td>\n",
       "      <td>1</td>\n",
       "    </tr>\n",
       "    <tr>\n",
       "      <th>3</th>\n",
       "      <td>70</td>\n",
       "      <td>0.16</td>\n",
       "      <td>0.87</td>\n",
       "      <td>70</td>\n",
       "      <td>1.9</td>\n",
       "      <td>175</td>\n",
       "      <td>1</td>\n",
       "      <td>0</td>\n",
       "      <td>0</td>\n",
       "      <td>0</td>\n",
       "      <td>0</td>\n",
       "      <td>0</td>\n",
       "      <td>1</td>\n",
       "      <td>1</td>\n",
       "    </tr>\n",
       "    <tr>\n",
       "      <th>4</th>\n",
       "      <td>70</td>\n",
       "      <td>0.72</td>\n",
       "      <td>0.87</td>\n",
       "      <td>70</td>\n",
       "      <td>1.2</td>\n",
       "      <td>61</td>\n",
       "      <td>0</td>\n",
       "      <td>0</td>\n",
       "      <td>0</td>\n",
       "      <td>0</td>\n",
       "      <td>0</td>\n",
       "      <td>0</td>\n",
       "      <td>1</td>\n",
       "      <td>1</td>\n",
       "    </tr>\n",
       "  </tbody>\n",
       "</table>\n",
       "</div>"
      ],
      "text/plain": [
       "  age   TSH   T4U  FTI   T3  TT4  on_thyroxine  query_hypothyroid  sex  \\\n",
       "0  41   1.3  1.14  109  2.5  125             0                  0    0   \n",
       "1  23   4.1  0.91  120    2  102             0                  0    0   \n",
       "2  46  0.98  0.91  120  1.9  109             0                  0    1   \n",
       "3  70  0.16  0.87   70  1.9  175             1                  0    0   \n",
       "4  70  0.72  0.87   70  1.2   61             0                  0    0   \n",
       "\n",
       "   query_hyperthyroid  thyroid_surgery  tumor  hypothyroid  hypothyroid1  \n",
       "0                   0                0      0            1             1  \n",
       "1                   0                0      0            1             1  \n",
       "2                   0                0      0            1             1  \n",
       "3                   0                0      0            1             1  \n",
       "4                   0                0      0            1             1  "
      ]
     },
     "execution_count": 73,
     "metadata": {},
     "output_type": "execute_result"
    }
   ],
   "source": [
    "data.head()"
   ]
  },
  {
   "cell_type": "code",
   "execution_count": 67,
   "metadata": {},
   "outputs": [],
   "source": [
    "CategoricalFeatures = ['on_thyroxine', 'query_hypothyroid', 'sex', 'query_hyperthyroid', 'thyroid_surgery', 'tumor', 'hypothyroid']\n",
    "categoricalFeatures = CategoricalFeatures.copy()\n"
   ]
  },
  {
   "cell_type": "code",
   "execution_count": 70,
   "metadata": {},
   "outputs": [
    {
     "data": {
      "text/plain": [
       "['on_thyroxine',\n",
       " 'query_hypothyroid',\n",
       " 'query_hyperthyroid',\n",
       " 'thyroid_surgery',\n",
       " 'tumor']"
      ]
     },
     "execution_count": 70,
     "metadata": {},
     "output_type": "execute_result"
    }
   ],
   "source": [
    "categoricalFeatures.remove('sex')\n",
    "categoricalFeatures.remove(\"hypothyroid\")\n",
    "categoricalFeatures"
   ]
  },
  {
   "cell_type": "code",
   "execution_count": 72,
   "metadata": {},
   "outputs": [],
   "source": [
    "for feature in categoricalFeatures:\n",
    "    data[feature] = data[feature].map({\"f\": 0, \"t\": 1})"
   ]
  },
  {
   "cell_type": "code",
   "execution_count": 75,
   "metadata": {},
   "outputs": [],
   "source": [
    "import pandas as pd\n",
    "data = data.apply(pd.to_numeric)"
   ]
  },
  {
   "cell_type": "code",
   "execution_count": 76,
   "metadata": {},
   "outputs": [
    {
     "data": {
      "text/plain": [
       "age                     int64\n",
       "TSH                   float64\n",
       "T4U                   float64\n",
       "FTI                   float64\n",
       "T3                    float64\n",
       "TT4                   float64\n",
       "on_thyroxine            int64\n",
       "query_hypothyroid       int64\n",
       "sex                     int64\n",
       "query_hyperthyroid      int64\n",
       "thyroid_surgery         int64\n",
       "tumor                   int64\n",
       "hypothyroid             int64\n",
       "hypothyroid1            int64\n",
       "dtype: object"
      ]
     },
     "execution_count": 76,
     "metadata": {},
     "output_type": "execute_result"
    }
   ],
   "source": [
    "data.dtypes"
   ]
  },
  {
   "cell_type": "code",
   "execution_count": 2,
   "metadata": {},
   "outputs": [],
   "source": [
    "CategoricalFeatures = [\"potential_issue\", \"deck_risk\", \"oe_constraint\", \"ppap_risk\", \"stop_auto_buy\", \"rev_stop\", \"went_on_backorder\"]\n",
    "NumericalFeatures = [\"national_inv\", \"lead_time\", \"in_transit_qty\", \"forecast_3_month\", \"forecast_6_month\", \"forecast_9_month\",\n",
    "                                  \"sales_1_month\", \"sales_3_month\", \"sales_6_month\", \"sales_9_month\", \"min_bank\", \"pieces_past_due\",\n",
    "                                  \"perf_6_month_avg\", \"perf_12_month_avg\", \"local_bo_qty\"]\n",
    "SelectedFeatures_for_backorder = [\"national_inv\", \"lead_time\", \"in_transit_qty\", \"forecast_9_month\", \"sales_9_month\", \"perf_6_month_avg\",  \"min_bank\", \"pieces_past_due\", \"local_bo_qty\",\n",
    "                                               \"deck_risk\", \"ppap_risk\", \"stop_auto_buy\", \"went_on_backorder\"\n",
    "                                               ]\n",
    "SelectedFeatures_for_minbank = [\"national_inv\", \"perf_6_month_avg\", \"lead_time\", \"in_transit_qty\",\n",
    "                                             'potential_issue', 'pieces_past_due', 'local_bo_qty', 'sales_3_month',\n",
    "                                             \"forecast_6_month\", 'deck_risk', 'oe_constraint', 'ppap_risk',\n",
    "                                             'stop_auto_buy', 'rev_stop']"
   ]
  },
  {
   "cell_type": "code",
   "execution_count": 5,
   "metadata": {},
   "outputs": [
    {
     "name": "stdout",
     "output_type": "stream",
     "text": [
      "['pieces_past_due', 'in_transit_qty', 'local_bo_qty', 'sales_3_month', 'perf_6_month_avg', 'lead_time', 'forecast_6_month', 'national_inv']\n"
     ]
    }
   ],
   "source": [
    "print(list(set(SelectedFeatures_for_minbank ) - set(CategoricalFeatures)))"
   ]
  },
  {
   "cell_type": "code",
   "execution_count": 1,
   "metadata": {},
   "outputs": [],
   "source": [
    "class GlobalVariablesPath:\n",
    "    def __init__(self):\n",
    "        self.filesPath = {\"dataSet\"         : \"Files_Storage/DataSet/\",\n",
    "                          \"trainingFile\"    : \"Files_Storage/Training/Training_BOP.csv\",\n",
    "                          \"testingFile\"     : \"Files_Storage/Testing/Testing_BOP.csv\",\n",
    "                          \"PickleFiles\"     : \"Files_Storage/PickleFiles/\",\n",
    "                          \"Figures\"         : \"Files_Storage/Figures\"\n",
    "                          }\n",
    "\n",
    "        self.syntaxErrorVal = -99\n",
    "        self.CategoricalFeatures = [\"potential_issue\", \"deck_risk\", \"oe_constraint\", \"ppap_risk\", \"stop_auto_buy\", \"rev_stop\", \"went_on_backorder\"]\n",
    "        self.NumericalFeatures = [\"national_inv\", \"lead_time\", \"in_transit_qty\", \"forecast_3_month\", \"forecast_6_month\", \"forecast_9_month\",\n",
    "                                  \"sales_1_month\", \"sales_3_month\", \"sales_6_month\", \"sales_9_month\", \"min_bank\", \"pieces_past_due\",\n",
    "                                  \"perf_6_month_avg\", \"perf_12_month_avg\", \"local_bo_qty\"]\n",
    "        self.ValuesOfCategorical = [\"No\", \"Yes\"]\n",
    "        self.SelectedFeatures = [\"stop_auto_buy\", \"lead_time\", \"deck_risk\", \"perf_6_month_avg\", \"ppap_risk\", \"national_inv\", \"forecast_9_month\",\n",
    "                                 \"sales_9_month\", \"local_bo_qty\", \"pieces_past_due\", \"min_bank\", \"in_transit_qty\", \"went_on_backorder\"\n",
    "                                 ]\n",
    "        self.ColNames = [\"sku\", \"potential_issue\", \"deck_risk\", \"oe_constraint\", \"ppap_risk\", \"stop_auto_buy\", \"rev_stop\",\n",
    "                         \"went_on_backorder\", \"national_inv\", \"lead_time\", \"in_transit_qty\", \"forecast_3_month\", \"forecast_6_month\",\n",
    "                         \"forecast_9_month\", \"sales_1_month\", \"sales_3_month\", \"sales_6_month\", \"sales_9_month\", \"min_bank\", \"pieces_past_due\",\n",
    "                         \"perf_6_month_avg\", \"perf_12_month_avg\",\"local_bo_qty\"\n",
    "                         ]\n",
    "        self.MySQL_Variables = {\"host\": 'localhost',\n",
    "                                \"user\": \"root\",\n",
    "                                \"pwd\": \"password\",\n",
    "                                \"database\": \"backorderproduct\",\n",
    "                                \"trainingTable\": \"training_BOP\",\n",
    "                                \"testingTable\": \"testing_BOP\"\n",
    "                                }\n"
   ]
  },
  {
   "cell_type": "code",
   "execution_count": 2,
   "metadata": {},
   "outputs": [],
   "source": [
    "\n",
    "from mysql import connector\n",
    "import pandas as pd\n",
    "\n",
    "# from GlobalVariables.GlobalVariables import GlobalVariablesPath\n",
    "\n",
    "class MySQL_DB:\n",
    "    def __init__(self):\n",
    "        self.GVP = GlobalVariablesPath()\n",
    "\n",
    "    # Connecting to MySQL --------------------------------------------\n",
    "    def connect_to_MySQL(self):\n",
    "        MySQL = connector.connect(host= self.GVP.MySQL_Variables[\"host\"],\n",
    "                                  user=self.GVP.MySQL_Variables[\"user\"],\n",
    "                                  password=self.GVP.MySQL_Variables[\"pwd\"]\n",
    "                                  )\n",
    "        SQL_Cursor = MySQL.cursor()\n",
    "        return MySQL, SQL_Cursor\n",
    "\n",
    "    # Connecting to database ------------------------------------------\n",
    "    def connect_to_database(self, DB_Name):\n",
    "        MyDB = connector.connect(host= self.GVP.MySQL_Variables[\"host\"],\n",
    "                                 user=self.GVP.MySQL_Variables[\"user\"],\n",
    "                                 password=self.GVP.MySQL_Variables[\"pwd\"],\n",
    "                                 database=DB_Name\n",
    "                                 )\n",
    "        DB_Cursor = MyDB.cursor()\n",
    "        return MyDB, DB_Cursor\n",
    "\n",
    "    # Returns list of database names available in MySQL\n",
    "    def list_of_databases(self):\n",
    "        MySQL, SQL_Cursor = self.connect_to_MySQL()\n",
    "        SQL_Cursor.execute(\"SHOW DATABASES\")\n",
    "        dataBaseNames = [x[0] for x in SQL_Cursor]\n",
    "        MySQL.close()\n",
    "        return dataBaseNames\n",
    "\n",
    "    # Returns list of table names available in database\n",
    "    def list_of_tables_in_DB(self, DB_Name):\n",
    "        MyDB, DB_Cursor = self.connect_to_database(DB_Name)\n",
    "        DB_Cursor.execute(\"SHOW TABLES\")\n",
    "        tableNames = [x[0] for x in DB_Cursor]\n",
    "        MyDB.close()\n",
    "        return tableNames\n",
    "\n",
    "    def create_DB(self, DB_Name):\n",
    "        MySQL, SQL_Cursor = self.connect_to_MySQL()\n",
    "        if DB_Name not in self.list_of_databases():\n",
    "            query = \"CREATE DATABASE \" + DB_Name\n",
    "            SQL_Cursor.execute(query)\n",
    "            print(f\"Database '{DB_Name}' is created successfully\")\n",
    "        else:\n",
    "            print(f\"Database '{DB_Name}' already exists\")\n",
    "        MySQL.close()\n",
    "\n",
    "    def drop_DB(self, DB_Name):\n",
    "        MySQL, SQL_Cursor = self.connect_to_MySQL()\n",
    "        if DB_Name in self.list_of_databases():\n",
    "            query = \"DROP DATABASE \" + DB_Name\n",
    "            SQL_Cursor.execute(query)\n",
    "            print(f\"Database '{DB_Name}' is dropped successfully\")\n",
    "        else:\n",
    "            print(f\"Database '{DB_Name}' doesn't exist\")\n",
    "        MySQL.close()\n",
    "\n",
    "    def create_table_in_DB(self, DB_Name, Table_Name, Columns):\n",
    "        MyDB, DB_Cursor = self.connect_to_database(DB_Name)\n",
    "        # Creating the table if table doesn't present in database\n",
    "        if Table_Name not in self.list_of_tables_in_DB(DB_Name):\n",
    "            query = \"CREATE TABLE \" + Table_Name + \" \" + Columns\n",
    "            print(query)\n",
    "            DB_Cursor.execute(query)\n",
    "            print(f\"Table '{Table_Name}' is created successfully in the database '{DB_Name}'\")\n",
    "\n",
    "        # Dropping the table and agian creating if table presents in database\n",
    "        else:\n",
    "            print(f\"Table '{Table_Name} already exists in the database '{DB_Name}'\")\n",
    "            self.drop_table_in_DB(DB_Name, Table_Name)\n",
    "            self.create_table_in_DB(DB_Name, Table_Name, Columns)\n",
    "        MyDB.close()\n",
    "\n",
    "    def drop_table_in_DB(self, DB_Name, Table_Name):\n",
    "        MyDB, DB_Cursor = self.connect_to_database(DB_Name)\n",
    "        if Table_Name in self.list_of_tables_in_DB(DB_Name):\n",
    "            query = \"DROP TABLE \" + Table_Name\n",
    "            DB_Cursor.execute(query)\n",
    "            print(f\"Table '{Table_Name}' is dropped successfully from the database '{DB_Name}'\")\n",
    "        else:\n",
    "            print(f\"Table '{Table_Name} doesn't exist in the database '{DB_Name}'\")\n",
    "        MyDB.close()\n",
    "\n",
    "    def create_table_as_dataframe(self, df, DB_Name, Table_Name):\n",
    "        data = pd.DataFrame(df.dtypes).T\n",
    "        Columns = \"(\"\n",
    "        for col in data.columns:\n",
    "            val = data.loc[0, col]\n",
    "            if val == \"datetime64[ns]\":\n",
    "                dType = \"datetime\"\n",
    "            elif val == \"int64\":\n",
    "                dType = \"int\"\n",
    "            elif val == \"float64\":\n",
    "                dType = \"float\"\n",
    "            elif val == \"object\":\n",
    "                dType = \"varchar(255)\"\n",
    "            Columns = Columns + col + \" \" + dType + \", \"\n",
    "        Columns = Columns[0:-2] + \")\"\n",
    "        self.create_table_in_DB(DB_Name, Table_Name, Columns)\n",
    "\n",
    "    def load_data_from_dataframe_to_table(self, df, DB_Name, Table_Name):\n",
    "        self.create_table_as_dataframe(df, DB_Name, Table_Name)  # Creating table in DB\n",
    "\n",
    "        # --------------------------------- Extracting column names as tuples\n",
    "        columnNames = \"(\"\n",
    "        for col in BOP_training.columns:\n",
    "            columnNames = columnNames + str(col) + \", \"\n",
    "        columnNames = columnNames[0:-2] + \")\"\n",
    "\n",
    "        # --------------------------------- Creating values type for insert values\n",
    "        string = \"(\"\n",
    "        for i in range(len(tuple(df.columns))):\n",
    "            string = string + \"%s, \"\n",
    "        string = string[0:-2] + \")\"\n",
    "\n",
    "\n",
    "        # --------------------------------- Extracting values as tuples\n",
    "        arrayValues = df.values\n",
    "        \n",
    "        startValue = 0\n",
    "        endValue = 1000\n",
    "        for i in range(1, round(len(arrayValues)/1000)+1):\n",
    "            records_to_insert = arrayValues[startValue:endValue]            \n",
    "            records_to_insert = [tuple(records_to_insert[i]) for i in range(len(records_to_insert))]\n",
    "\n",
    "            # --------------------------------- SQL Query\n",
    "            SQL_Query = \"INSERT INTO customers \" + columnNames + \" VALUES \" + string\n",
    "            # --------------------------------- Connecting to database\n",
    "            MyDB, DB_Cursor = self.connect_to_database(DB_Name)\n",
    "            # --------------------------------- Inserting Records into SQL table\n",
    "            try:\n",
    "                DB_Cursor.executemany(SQL_Query, records_to_insert)\n",
    "                MyDB.commit()  # If no errors, permanently insert all the records into table\n",
    "            except:\n",
    "                MyDB.rollback()  # If any error exists, remove all inserted records from table\n",
    "            \n",
    "            startValue = endValue\n",
    "            endValue = endValue+1000\n",
    "            \n",
    "        MyDB.close()"
   ]
  },
  {
   "cell_type": "code",
   "execution_count": 30,
   "metadata": {},
   "outputs": [
    {
     "name": "stdout",
     "output_type": "stream",
     "text": [
      "Table 'BOP_testing' is created successfully in the database 'backorderproduct'\n"
     ]
    }
   ],
   "source": [
    "'''DB_Name = \"backorderproduct\"\n",
    "training_Table_Name = \"bop_training\"\n",
    "testing_Table_Name = \"bop_testing\"\n",
    "Columns = \"(sku VARCHAR(255), potential_issue VARCHAR(255), deck_risk VARCHAR(255), oe_constraint VARCHAR(255), ppap_risk VARCHAR(255), stop_auto_buy VARCHAR(255), rev_stop VARCHAR(255), went_on_backorder VARCHAR(255), national_inv VARCHAR(255), lead_time VARCHAR(255), in_transit_qty VARCHAR(255), forecast_3_month VARCHAR(255), forecast_6_month VARCHAR(255), forecast_9_month VARCHAR(255), sales_1_month VARCHAR(255), sales_3_month VARCHAR(255), sales_6_month VARCHAR(255), sales_9_month VARCHAR(255), min_bank VARCHAR(255), pieces_past_due VARCHAR(255), perf_6_month_avg VARCHAR(255), perf_12_month_avg VARCHAR(255), local_bo_qty VARCHAR(255))\"\n",
    "\n",
    "# Create training table\n",
    "create_table_in_DB(DB_Name, training_Table_Name, Columns)\n",
    "\n",
    "# Create training table\n",
    "create_table_in_DB(DB_Name, testing_Table_Name, Columns)\n",
    "'''"
   ]
  },
  {
   "cell_type": "code",
   "execution_count": 3,
   "metadata": {},
   "outputs": [
    {
     "name": "stdout",
     "output_type": "stream",
     "text": [
      "DataBases :  ['backorderproduct', 'information_schema', 'mysql', 'performance_schema', 'sakila', 'sys', 'world']\n",
      "Tables in DB :  ['bop_testing']\n"
     ]
    }
   ],
   "source": [
    "print(\"DataBases : \", MySQL_DB().list_of_databases())\n",
    "print(\"Tables in DB : \", MySQL_DB().list_of_tables_in_DB(\"backorderproduct\"))"
   ]
  },
  {
   "cell_type": "code",
   "execution_count": 4,
   "metadata": {},
   "outputs": [
    {
     "name": "stderr",
     "output_type": "stream",
     "text": [
      "C:\\Users\\mural\\anaconda3\\lib\\site-packages\\IPython\\core\\interactiveshell.py:3071: DtypeWarning: Columns (0) have mixed types.Specify dtype option on import or set low_memory=False.\n",
      "  has_raised = await self.run_ast_nodes(code_ast.body, cell_name,\n"
     ]
    },
    {
     "data": {
      "text/html": [
       "<div>\n",
       "<style scoped>\n",
       "    .dataframe tbody tr th:only-of-type {\n",
       "        vertical-align: middle;\n",
       "    }\n",
       "\n",
       "    .dataframe tbody tr th {\n",
       "        vertical-align: top;\n",
       "    }\n",
       "\n",
       "    .dataframe thead th {\n",
       "        text-align: right;\n",
       "    }\n",
       "</style>\n",
       "<table border=\"1\" class=\"dataframe\">\n",
       "  <thead>\n",
       "    <tr style=\"text-align: right;\">\n",
       "      <th></th>\n",
       "      <th>sku</th>\n",
       "      <th>national_inv</th>\n",
       "      <th>lead_time</th>\n",
       "      <th>in_transit_qty</th>\n",
       "      <th>forecast_3_month</th>\n",
       "      <th>forecast_6_month</th>\n",
       "      <th>forecast_9_month</th>\n",
       "      <th>sales_1_month</th>\n",
       "      <th>sales_3_month</th>\n",
       "      <th>sales_6_month</th>\n",
       "      <th>...</th>\n",
       "      <th>pieces_past_due</th>\n",
       "      <th>perf_6_month_avg</th>\n",
       "      <th>perf_12_month_avg</th>\n",
       "      <th>local_bo_qty</th>\n",
       "      <th>deck_risk</th>\n",
       "      <th>oe_constraint</th>\n",
       "      <th>ppap_risk</th>\n",
       "      <th>stop_auto_buy</th>\n",
       "      <th>rev_stop</th>\n",
       "      <th>went_on_backorder</th>\n",
       "    </tr>\n",
       "  </thead>\n",
       "  <tbody>\n",
       "    <tr>\n",
       "      <th>0</th>\n",
       "      <td>1026827</td>\n",
       "      <td>0.0</td>\n",
       "      <td>NaN</td>\n",
       "      <td>0.0</td>\n",
       "      <td>0.0</td>\n",
       "      <td>0.0</td>\n",
       "      <td>0.0</td>\n",
       "      <td>0.0</td>\n",
       "      <td>0.0</td>\n",
       "      <td>0.0</td>\n",
       "      <td>...</td>\n",
       "      <td>0.0</td>\n",
       "      <td>-99.00</td>\n",
       "      <td>-99.00</td>\n",
       "      <td>0.0</td>\n",
       "      <td>No</td>\n",
       "      <td>No</td>\n",
       "      <td>No</td>\n",
       "      <td>Yes</td>\n",
       "      <td>No</td>\n",
       "      <td>No</td>\n",
       "    </tr>\n",
       "    <tr>\n",
       "      <th>1</th>\n",
       "      <td>1043384</td>\n",
       "      <td>2.0</td>\n",
       "      <td>9.0</td>\n",
       "      <td>0.0</td>\n",
       "      <td>0.0</td>\n",
       "      <td>0.0</td>\n",
       "      <td>0.0</td>\n",
       "      <td>0.0</td>\n",
       "      <td>0.0</td>\n",
       "      <td>0.0</td>\n",
       "      <td>...</td>\n",
       "      <td>0.0</td>\n",
       "      <td>0.99</td>\n",
       "      <td>0.99</td>\n",
       "      <td>0.0</td>\n",
       "      <td>No</td>\n",
       "      <td>No</td>\n",
       "      <td>No</td>\n",
       "      <td>Yes</td>\n",
       "      <td>No</td>\n",
       "      <td>No</td>\n",
       "    </tr>\n",
       "    <tr>\n",
       "      <th>2</th>\n",
       "      <td>1043696</td>\n",
       "      <td>2.0</td>\n",
       "      <td>NaN</td>\n",
       "      <td>0.0</td>\n",
       "      <td>0.0</td>\n",
       "      <td>0.0</td>\n",
       "      <td>0.0</td>\n",
       "      <td>0.0</td>\n",
       "      <td>0.0</td>\n",
       "      <td>0.0</td>\n",
       "      <td>...</td>\n",
       "      <td>0.0</td>\n",
       "      <td>-99.00</td>\n",
       "      <td>-99.00</td>\n",
       "      <td>0.0</td>\n",
       "      <td>Yes</td>\n",
       "      <td>No</td>\n",
       "      <td>No</td>\n",
       "      <td>Yes</td>\n",
       "      <td>No</td>\n",
       "      <td>No</td>\n",
       "    </tr>\n",
       "    <tr>\n",
       "      <th>3</th>\n",
       "      <td>1043852</td>\n",
       "      <td>7.0</td>\n",
       "      <td>8.0</td>\n",
       "      <td>0.0</td>\n",
       "      <td>0.0</td>\n",
       "      <td>0.0</td>\n",
       "      <td>0.0</td>\n",
       "      <td>0.0</td>\n",
       "      <td>0.0</td>\n",
       "      <td>0.0</td>\n",
       "      <td>...</td>\n",
       "      <td>0.0</td>\n",
       "      <td>0.10</td>\n",
       "      <td>0.13</td>\n",
       "      <td>0.0</td>\n",
       "      <td>No</td>\n",
       "      <td>No</td>\n",
       "      <td>No</td>\n",
       "      <td>Yes</td>\n",
       "      <td>No</td>\n",
       "      <td>No</td>\n",
       "    </tr>\n",
       "    <tr>\n",
       "      <th>4</th>\n",
       "      <td>1044048</td>\n",
       "      <td>8.0</td>\n",
       "      <td>NaN</td>\n",
       "      <td>0.0</td>\n",
       "      <td>0.0</td>\n",
       "      <td>0.0</td>\n",
       "      <td>0.0</td>\n",
       "      <td>0.0</td>\n",
       "      <td>0.0</td>\n",
       "      <td>0.0</td>\n",
       "      <td>...</td>\n",
       "      <td>0.0</td>\n",
       "      <td>-99.00</td>\n",
       "      <td>-99.00</td>\n",
       "      <td>0.0</td>\n",
       "      <td>Yes</td>\n",
       "      <td>No</td>\n",
       "      <td>No</td>\n",
       "      <td>Yes</td>\n",
       "      <td>No</td>\n",
       "      <td>No</td>\n",
       "    </tr>\n",
       "  </tbody>\n",
       "</table>\n",
       "<p>5 rows × 23 columns</p>\n",
       "</div>"
      ],
      "text/plain": [
       "       sku  national_inv  lead_time  in_transit_qty  forecast_3_month  \\\n",
       "0  1026827           0.0        NaN             0.0               0.0   \n",
       "1  1043384           2.0        9.0             0.0               0.0   \n",
       "2  1043696           2.0        NaN             0.0               0.0   \n",
       "3  1043852           7.0        8.0             0.0               0.0   \n",
       "4  1044048           8.0        NaN             0.0               0.0   \n",
       "\n",
       "   forecast_6_month  forecast_9_month  sales_1_month  sales_3_month  \\\n",
       "0               0.0               0.0            0.0            0.0   \n",
       "1               0.0               0.0            0.0            0.0   \n",
       "2               0.0               0.0            0.0            0.0   \n",
       "3               0.0               0.0            0.0            0.0   \n",
       "4               0.0               0.0            0.0            0.0   \n",
       "\n",
       "   sales_6_month  ...  pieces_past_due  perf_6_month_avg perf_12_month_avg  \\\n",
       "0            0.0  ...              0.0            -99.00            -99.00   \n",
       "1            0.0  ...              0.0              0.99              0.99   \n",
       "2            0.0  ...              0.0            -99.00            -99.00   \n",
       "3            0.0  ...              0.0              0.10              0.13   \n",
       "4            0.0  ...              0.0            -99.00            -99.00   \n",
       "\n",
       "   local_bo_qty  deck_risk  oe_constraint  ppap_risk stop_auto_buy rev_stop  \\\n",
       "0           0.0         No             No         No           Yes       No   \n",
       "1           0.0         No             No         No           Yes       No   \n",
       "2           0.0        Yes             No         No           Yes       No   \n",
       "3           0.0         No             No         No           Yes       No   \n",
       "4           0.0        Yes             No         No           Yes       No   \n",
       "\n",
       "  went_on_backorder  \n",
       "0                No  \n",
       "1                No  \n",
       "2                No  \n",
       "3                No  \n",
       "4                No  \n",
       "\n",
       "[5 rows x 23 columns]"
      ]
     },
     "execution_count": 4,
     "metadata": {},
     "output_type": "execute_result"
    }
   ],
   "source": [
    "import pandas as pd\n",
    "BOP_training = pd.read_csv(r\"D:\\DataScience\\02 INEURON\\ML_Projects\\Internal Projects (Practicing)\\Work\\Masters Projects\\Back Order Prediction\\BOP Project\\Files_Storage\\Training\\Training_BOP.csv\")\n",
    "BOP_training.head()"
   ]
  },
  {
   "cell_type": "code",
   "execution_count": null,
   "metadata": {},
   "outputs": [
    {
     "name": "stdout",
     "output_type": "stream",
     "text": [
      "Table 'bop_training already exists in the database 'backorderproduct'\n"
     ]
    }
   ],
   "source": [
    "df = BOP_training.copy()\n",
    "DB_Name = \"backorderproduct\"\n",
    "Table_Name = \"bop_training\"\n",
    "MySQL_DB().load_data_from_dataframe_to_table(df, DB_Name, Table_Name)"
   ]
  },
  {
   "cell_type": "code",
   "execution_count": null,
   "metadata": {},
   "outputs": [],
   "source": []
  },
  {
   "cell_type": "code",
   "execution_count": null,
   "metadata": {},
   "outputs": [],
   "source": []
  },
  {
   "cell_type": "code",
   "execution_count": null,
   "metadata": {},
   "outputs": [],
   "source": []
  },
  {
   "cell_type": "code",
   "execution_count": 3,
   "metadata": {},
   "outputs": [
    {
     "ename": "ProgrammingError",
     "evalue": "1146 (42S02): Table 'backorderproduct.bop_training' doesn't exist",
     "output_type": "error",
     "traceback": [
      "\u001b[1;31m---------------------------------------------------------------------------\u001b[0m",
      "\u001b[1;31mMySQLInterfaceError\u001b[0m                       Traceback (most recent call last)",
      "\u001b[1;32m~\\anaconda3\\lib\\site-packages\\mysql\\connector\\connection_cext.py\u001b[0m in \u001b[0;36mcmd_query\u001b[1;34m(self, query, raw, buffered, raw_as_string)\u001b[0m\n\u001b[0;32m    515\u001b[0m                 \u001b[0mquery\u001b[0m \u001b[1;33m=\u001b[0m \u001b[0mquery\u001b[0m\u001b[1;33m.\u001b[0m\u001b[0mencode\u001b[0m\u001b[1;33m(\u001b[0m\u001b[1;34m'utf-8'\u001b[0m\u001b[1;33m)\u001b[0m\u001b[1;33m\u001b[0m\u001b[1;33m\u001b[0m\u001b[0m\n\u001b[1;32m--> 516\u001b[1;33m             self._cmysql.query(query,\n\u001b[0m\u001b[0;32m    517\u001b[0m                                \u001b[0mraw\u001b[0m\u001b[1;33m=\u001b[0m\u001b[0mraw\u001b[0m\u001b[1;33m,\u001b[0m \u001b[0mbuffered\u001b[0m\u001b[1;33m=\u001b[0m\u001b[0mbuffered\u001b[0m\u001b[1;33m,\u001b[0m\u001b[1;33m\u001b[0m\u001b[1;33m\u001b[0m\u001b[0m\n",
      "\u001b[1;31mMySQLInterfaceError\u001b[0m: Table 'backorderproduct.bop_training' doesn't exist",
      "\nDuring handling of the above exception, another exception occurred:\n",
      "\u001b[1;31mProgrammingError\u001b[0m                          Traceback (most recent call last)",
      "\u001b[1;32m<ipython-input-3-4e7d542fe9c7>\u001b[0m in \u001b[0;36m<module>\u001b[1;34m\u001b[0m\n\u001b[0;32m      3\u001b[0m \u001b[0mTable_Name\u001b[0m \u001b[1;33m=\u001b[0m \u001b[1;34m\"bop_training\"\u001b[0m\u001b[1;33m\u001b[0m\u001b[1;33m\u001b[0m\u001b[0m\n\u001b[0;32m      4\u001b[0m \u001b[1;33m\u001b[0m\u001b[0m\n\u001b[1;32m----> 5\u001b[1;33m \u001b[0mDB_Cursor\u001b[0m\u001b[1;33m.\u001b[0m\u001b[0mexecute\u001b[0m\u001b[1;33m(\u001b[0m\u001b[1;34m\"SELECT * FROM \"\u001b[0m \u001b[1;33m+\u001b[0m \u001b[0mTable_Name\u001b[0m\u001b[1;33m)\u001b[0m\u001b[1;33m\u001b[0m\u001b[1;33m\u001b[0m\u001b[0m\n\u001b[0m\u001b[0;32m      6\u001b[0m \u001b[1;33m\u001b[0m\u001b[0m\n\u001b[0;32m      7\u001b[0m \u001b[0mmyresult\u001b[0m \u001b[1;33m=\u001b[0m \u001b[0mDB_Cursor\u001b[0m\u001b[1;33m.\u001b[0m\u001b[0mfetchall\u001b[0m\u001b[1;33m(\u001b[0m\u001b[1;33m)\u001b[0m\u001b[1;33m\u001b[0m\u001b[1;33m\u001b[0m\u001b[0m\n",
      "\u001b[1;32m~\\anaconda3\\lib\\site-packages\\mysql\\connector\\cursor_cext.py\u001b[0m in \u001b[0;36mexecute\u001b[1;34m(self, operation, params, multi)\u001b[0m\n\u001b[0;32m    267\u001b[0m \u001b[1;33m\u001b[0m\u001b[0m\n\u001b[0;32m    268\u001b[0m         \u001b[1;32mtry\u001b[0m\u001b[1;33m:\u001b[0m\u001b[1;33m\u001b[0m\u001b[1;33m\u001b[0m\u001b[0m\n\u001b[1;32m--> 269\u001b[1;33m             result = self._cnx.cmd_query(stmt, raw=self._raw,\n\u001b[0m\u001b[0;32m    270\u001b[0m                                          \u001b[0mbuffered\u001b[0m\u001b[1;33m=\u001b[0m\u001b[0mself\u001b[0m\u001b[1;33m.\u001b[0m\u001b[0m_buffered\u001b[0m\u001b[1;33m,\u001b[0m\u001b[1;33m\u001b[0m\u001b[1;33m\u001b[0m\u001b[0m\n\u001b[0;32m    271\u001b[0m                                          raw_as_string=self._raw_as_string)\n",
      "\u001b[1;32m~\\anaconda3\\lib\\site-packages\\mysql\\connector\\connection_cext.py\u001b[0m in \u001b[0;36mcmd_query\u001b[1;34m(self, query, raw, buffered, raw_as_string)\u001b[0m\n\u001b[0;32m    519\u001b[0m                                query_attrs=self._query_attrs)\n\u001b[0;32m    520\u001b[0m         \u001b[1;32mexcept\u001b[0m \u001b[0mMySQLInterfaceError\u001b[0m \u001b[1;32mas\u001b[0m \u001b[0mexc\u001b[0m\u001b[1;33m:\u001b[0m\u001b[1;33m\u001b[0m\u001b[1;33m\u001b[0m\u001b[0m\n\u001b[1;32m--> 521\u001b[1;33m             raise errors.get_mysql_exception(exc.errno, msg=exc.msg,\n\u001b[0m\u001b[0;32m    522\u001b[0m                                              sqlstate=exc.sqlstate)\n\u001b[0;32m    523\u001b[0m         \u001b[1;32mexcept\u001b[0m \u001b[0mAttributeError\u001b[0m\u001b[1;33m:\u001b[0m\u001b[1;33m\u001b[0m\u001b[1;33m\u001b[0m\u001b[0m\n",
      "\u001b[1;31mProgrammingError\u001b[0m: 1146 (42S02): Table 'backorderproduct.bop_training' doesn't exist"
     ]
    }
   ],
   "source": [
    "DB_Name = \"backorderproduct\"\n",
    "MyDB, DB_Cursor = MySQL_DB().connect_to_database(DB_Name)\n",
    "Table_Name = \"bop_training\"\n",
    "\n",
    "DB_Cursor.execute(\"SELECT * FROM \" + Table_Name)\n",
    "\n",
    "myresult = DB_Cursor.fetchall()\n",
    "\n",
    "for x in myresult:\n",
    "    print(x)\n",
    "    "
   ]
  },
  {
   "cell_type": "code",
   "execution_count": null,
   "metadata": {},
   "outputs": [],
   "source": []
  },
  {
   "cell_type": "code",
   "execution_count": 6,
   "metadata": {},
   "outputs": [
    {
     "data": {
      "text/plain": [
       "True"
      ]
     },
     "execution_count": 6,
     "metadata": {},
     "output_type": "execute_result"
    }
   ],
   "source": [
    "# Checking whether it is connected to MySQL\n",
    "MySQL.is_connected()\n",
    "\n",
    "# Creating cursor with dictionary is True\n",
    "cursor = connection.cursor(dictionary=True)\n",
    "\n",
    "# Creating Database\n",
    "cursor.execute(\"CREATE DATABASE BackOrderProduct\")"
   ]
  },
  {
   "cell_type": "code",
   "execution_count": 29,
   "metadata": {},
   "outputs": [],
   "source": []
  },
  {
   "cell_type": "code",
   "execution_count": null,
   "metadata": {},
   "outputs": [],
   "source": [
    "\n"
   ]
  },
  {
   "cell_type": "code",
   "execution_count": 20,
   "metadata": {},
   "outputs": [
    {
     "name": "stdout",
     "output_type": "stream",
     "text": [
      "('test',)\n"
     ]
    }
   ],
   "source": [
    "# Show list of tables present in database\n",
    "cursor.execute(\"SHOW TABLES\")\n",
    "for x in cursor:\n",
    "    print(x)"
   ]
  },
  {
   "cell_type": "code",
   "execution_count": 22,
   "metadata": {},
   "outputs": [],
   "source": [
    "# Insert a Row into table\n",
    "sql = \"INSERT INTO test (name, address) VALUES (%s, %s)\"\n",
    "val = (\"John\", \"Highway 21\")\n",
    "cursor.execute(sql, val)\n",
    "MyDB.commit()"
   ]
  },
  {
   "cell_type": "code",
   "execution_count": 26,
   "metadata": {},
   "outputs": [],
   "source": [
    "sql = \"INSERT INTO test (name, address) VALUES (%s, %s)\"\n",
    "val = [\n",
    "  ('Peter', 'Lowstreet 4'),\n",
    "  ('Amy', 'Apple st 652'),\n",
    "  ('Hannah', 'Mountain 21'),\n",
    "  ('Michael', 'Valley 345'),\n",
    "  ('Sandy', 'Ocean blvd 2'),\n",
    "  ('Betty', 'Green Grass 1'),\n",
    "  ('Richard', 'Sky st 331'),\n",
    "  ('Susan', 'One way 98'),\n",
    "  ('Vicky', 'Yellow Garden 2'),\n",
    "  ('Ben', 'Park Lane 38'),\n",
    "  ('William', 'Central st 954'),\n",
    "  ('Chuck', 'Main Road 989'),\n",
    "  ('Viola', 'Sideway 1633')\n",
    "]\n",
    "\n",
    "cursor.executemany(sql, val)\n",
    "\n",
    "MyDB.commit()"
   ]
  },
  {
   "cell_type": "code",
   "execution_count": 27,
   "metadata": {},
   "outputs": [
    {
     "name": "stdout",
     "output_type": "stream",
     "text": [
      "('John', 'Highway 21')\n",
      "('Peter', 'Lowstreet 4')\n",
      "('Amy', 'Apple st 652')\n",
      "('Hannah', 'Mountain 21')\n",
      "('Michael', 'Valley 345')\n",
      "('Sandy', 'Ocean blvd 2')\n",
      "('Betty', 'Green Grass 1')\n",
      "('Richard', 'Sky st 331')\n",
      "('Susan', 'One way 98')\n",
      "('Vicky', 'Yellow Garden 2')\n",
      "('Ben', 'Park Lane 38')\n",
      "('William', 'Central st 954')\n",
      "('Chuck', 'Main Road 989')\n",
      "('Viola', 'Sideway 1633')\n"
     ]
    }
   ],
   "source": [
    "cursor.execute(\"SELECT * FROM test\")\n",
    "\n",
    "myresult = cursor.fetchall()\n",
    "\n",
    "for x in myresult:\n",
    "    print(x)\n"
   ]
  },
  {
   "cell_type": "code",
   "execution_count": 2,
   "metadata": {},
   "outputs": [
    {
     "name": "stderr",
     "output_type": "stream",
     "text": [
      "C:\\Users\\mural\\anaconda3\\lib\\site-packages\\IPython\\core\\interactiveshell.py:3071: DtypeWarning: Columns (0) have mixed types.Specify dtype option on import or set low_memory=False.\n",
      "  has_raised = await self.run_ast_nodes(code_ast.body, cell_name,\n"
     ]
    }
   ],
   "source": [
    "import pandas as pd\n",
    "BOP_train = pd.read_csv(r\"D:\\DataScience\\02 INEURON\\ML_Projects\\Internal Projects (Practicing)\\Work\\Masters Projects\\Back Order Prediction\\BOP Project\\Files_Storage\\DataSet\\Training\\Training_BOP.csv\")"
   ]
  },
  {
   "cell_type": "code",
   "execution_count": 6,
   "metadata": {},
   "outputs": [
    {
     "name": "stdout",
     "output_type": "stream",
     "text": [
      "(1687861, 23)\n",
      "(1687861, 23)\n"
     ]
    }
   ],
   "source": [
    "print(BOP_train.shape)\n",
    "print(BOP_train.dropna(subset=['sku']).shape)"
   ]
  },
  {
   "cell_type": "code",
   "execution_count": 8,
   "metadata": {},
   "outputs": [
    {
     "name": "stdout",
     "output_type": "stream",
     "text": [
      "RangeIndex(start=0, stop=1687861, step=1)\n"
     ]
    }
   ],
   "source": [
    "cleanedIndex = []\n",
    "cleanedIndex = BOP_train.index\n",
    "print(cleanedIndex)"
   ]
  },
  {
   "cell_type": "code",
   "execution_count": 45,
   "metadata": {},
   "outputs": [
    {
     "data": {
      "text/plain": [
       "['potential_issue',\n",
       " 'deck_risk',\n",
       " 'oe_constraint',\n",
       " 'ppap_risk',\n",
       " 'stop_auto_buy',\n",
       " 'rev_stop',\n",
       " 'went_on_backorder']"
      ]
     },
     "execution_count": 45,
     "metadata": {},
     "output_type": "execute_result"
    }
   ],
   "source": [
    "categorical_features = ['potential_issue', 'deck_risk', 'oe_constraint', 'ppap_risk', 'stop_auto_buy', 'rev_stop', 'went_on_backorder']\n",
    "categorical_features"
   ]
  },
  {
   "cell_type": "code",
   "execution_count": 17,
   "metadata": {},
   "outputs": [
    {
     "name": "stdout",
     "output_type": "stream",
     "text": [
      "potential_issue\n",
      "deck_risk\n",
      "oe_constraint\n",
      "ppap_risk\n",
      "stop_auto_buy\n",
      "rev_stop\n"
     ]
    }
   ],
   "source": [
    "X = BOP_train.drop(\"went_on_backorder\", axis=1)\n",
    "for feature in categorical_features:\n",
    "    if (feature != \"went_on_backorder\") | ((feature == \"went_on_backorder\") & (\"went_on_backorder\" in X.columns)):\n",
    "        print(feature)"
   ]
  },
  {
   "cell_type": "code",
   "execution_count": 28,
   "metadata": {},
   "outputs": [
    {
     "data": {
      "text/html": [
       "<div>\n",
       "<style scoped>\n",
       "    .dataframe tbody tr th:only-of-type {\n",
       "        vertical-align: middle;\n",
       "    }\n",
       "\n",
       "    .dataframe tbody tr th {\n",
       "        vertical-align: top;\n",
       "    }\n",
       "\n",
       "    .dataframe thead th {\n",
       "        text-align: right;\n",
       "    }\n",
       "</style>\n",
       "<table border=\"1\" class=\"dataframe\">\n",
       "  <thead>\n",
       "    <tr style=\"text-align: right;\">\n",
       "      <th></th>\n",
       "      <th>national_inv</th>\n",
       "      <th>lead_time</th>\n",
       "      <th>in_transit_qty</th>\n",
       "      <th>forecast_9_month</th>\n",
       "      <th>sales_9_month</th>\n",
       "      <th>perf_6_month_avg</th>\n",
       "      <th>min_bank</th>\n",
       "      <th>pieces_past_due</th>\n",
       "      <th>local_bo_qty</th>\n",
       "      <th>deck_risk</th>\n",
       "      <th>ppap_risk</th>\n",
       "      <th>stop_auto_buy</th>\n",
       "      <th>went_on_backorder</th>\n",
       "    </tr>\n",
       "  </thead>\n",
       "  <tbody>\n",
       "    <tr>\n",
       "      <th>0</th>\n",
       "      <td>0.0</td>\n",
       "      <td>NaN</td>\n",
       "      <td>0.0</td>\n",
       "      <td>0.0</td>\n",
       "      <td>0.0</td>\n",
       "      <td>-99.00</td>\n",
       "      <td>0.0</td>\n",
       "      <td>0.0</td>\n",
       "      <td>0.0</td>\n",
       "      <td>No</td>\n",
       "      <td>No</td>\n",
       "      <td>Yes</td>\n",
       "      <td>No</td>\n",
       "    </tr>\n",
       "    <tr>\n",
       "      <th>1</th>\n",
       "      <td>2.0</td>\n",
       "      <td>9.0</td>\n",
       "      <td>0.0</td>\n",
       "      <td>0.0</td>\n",
       "      <td>0.0</td>\n",
       "      <td>0.99</td>\n",
       "      <td>0.0</td>\n",
       "      <td>0.0</td>\n",
       "      <td>0.0</td>\n",
       "      <td>No</td>\n",
       "      <td>No</td>\n",
       "      <td>Yes</td>\n",
       "      <td>No</td>\n",
       "    </tr>\n",
       "    <tr>\n",
       "      <th>2</th>\n",
       "      <td>2.0</td>\n",
       "      <td>NaN</td>\n",
       "      <td>0.0</td>\n",
       "      <td>0.0</td>\n",
       "      <td>0.0</td>\n",
       "      <td>-99.00</td>\n",
       "      <td>0.0</td>\n",
       "      <td>0.0</td>\n",
       "      <td>0.0</td>\n",
       "      <td>Yes</td>\n",
       "      <td>No</td>\n",
       "      <td>Yes</td>\n",
       "      <td>No</td>\n",
       "    </tr>\n",
       "    <tr>\n",
       "      <th>3</th>\n",
       "      <td>7.0</td>\n",
       "      <td>8.0</td>\n",
       "      <td>0.0</td>\n",
       "      <td>0.0</td>\n",
       "      <td>0.0</td>\n",
       "      <td>0.10</td>\n",
       "      <td>1.0</td>\n",
       "      <td>0.0</td>\n",
       "      <td>0.0</td>\n",
       "      <td>No</td>\n",
       "      <td>No</td>\n",
       "      <td>Yes</td>\n",
       "      <td>No</td>\n",
       "    </tr>\n",
       "    <tr>\n",
       "      <th>4</th>\n",
       "      <td>8.0</td>\n",
       "      <td>NaN</td>\n",
       "      <td>0.0</td>\n",
       "      <td>0.0</td>\n",
       "      <td>4.0</td>\n",
       "      <td>-99.00</td>\n",
       "      <td>2.0</td>\n",
       "      <td>0.0</td>\n",
       "      <td>0.0</td>\n",
       "      <td>Yes</td>\n",
       "      <td>No</td>\n",
       "      <td>Yes</td>\n",
       "      <td>No</td>\n",
       "    </tr>\n",
       "  </tbody>\n",
       "</table>\n",
       "</div>"
      ],
      "text/plain": [
       "   national_inv  lead_time  in_transit_qty  forecast_9_month  sales_9_month  \\\n",
       "0           0.0        NaN             0.0               0.0            0.0   \n",
       "1           2.0        9.0             0.0               0.0            0.0   \n",
       "2           2.0        NaN             0.0               0.0            0.0   \n",
       "3           7.0        8.0             0.0               0.0            0.0   \n",
       "4           8.0        NaN             0.0               0.0            4.0   \n",
       "\n",
       "   perf_6_month_avg  min_bank  pieces_past_due  local_bo_qty deck_risk  \\\n",
       "0            -99.00       0.0              0.0           0.0        No   \n",
       "1              0.99       0.0              0.0           0.0        No   \n",
       "2            -99.00       0.0              0.0           0.0       Yes   \n",
       "3              0.10       1.0              0.0           0.0        No   \n",
       "4            -99.00       2.0              0.0           0.0       Yes   \n",
       "\n",
       "  ppap_risk stop_auto_buy went_on_backorder  \n",
       "0        No           Yes                No  \n",
       "1        No           Yes                No  \n",
       "2        No           Yes                No  \n",
       "3        No           Yes                No  \n",
       "4        No           Yes                No  "
      ]
     },
     "execution_count": 28,
     "metadata": {},
     "output_type": "execute_result"
    }
   ],
   "source": [
    "X = BOP_train.copy()\n",
    "if \"went_on_backorder\" not in X.columns:\n",
    "    SF = set(SelectedFeatures_for_backorder) - {\"went_on_backorder\"}\n",
    "    X1 = X[SF]\n",
    "else:\n",
    "    X1 = X[SelectedFeatures_for_backorder]\n",
    "X1.head()"
   ]
  },
  {
   "cell_type": "code",
   "execution_count": 40,
   "metadata": {},
   "outputs": [
    {
     "name": "stdout",
     "output_type": "stream",
     "text": [
      "set()\n"
     ]
    }
   ],
   "source": [
    "L1 = ['national_inv', 'lead_time', 'in_transit_qty', 'forecast_9_month', 'sales_9_month', 'perf_6_month_avg', 'min_bank', 'pieces_past_due', 'local_bo_qty', 'deck_risk', 'ppap_risk', 'stop_auto_buy'] \n",
    "L2 = ['stop_auto_buy', 'forecast_9_month', 'min_bank', 'deck_risk', 'lead_time', 'pieces_past_due', 'ppap_risk', 'local_bo_qty', 'perf_6_month_avg', 'national_inv', 'sales_9_month', 'in_transit_qty']\n",
    "print(set(L2) - set(L1))"
   ]
  },
  {
   "cell_type": "code",
   "execution_count": 44,
   "metadata": {},
   "outputs": [
    {
     "data": {
      "text/plain": [
       "set()"
      ]
     },
     "execution_count": 44,
     "metadata": {},
     "output_type": "execute_result"
    }
   ],
   "source": [
    "bo_features = [\"national_inv\", \"lead_time\", \"in_transit_qty\", \"forecast_9_month\", \"sales_9_month\", \"perf_6_month_avg\", \"min_bank\",\n",
    "                   \"pieces_past_due\", \"local_bo_qty\", \"deck_risk\", \"ppap_risk\", \"stop_auto_buy\"]\n",
    "SelectedFeatures_for_backorder = [\"national_inv\", \"lead_time\", \"in_transit_qty\", \"forecast_9_month\", \"sales_9_month\", \"perf_6_month_avg\",  \"min_bank\", \"pieces_past_due\", \"local_bo_qty\",\n",
    "                                               \"deck_risk\", \"ppap_risk\", \"stop_auto_buy\", \"went_on_backorder\"\n",
    "                                               ]\n",
    "set(bo_features) - set(SelectedFeatures_for_backorder)"
   ]
  },
  {
   "cell_type": "code",
   "execution_count": 5,
   "metadata": {},
   "outputs": [
    {
     "data": {
      "application/javascript": [
       "\n",
       "        if (window._pyforest_update_imports_cell) { window._pyforest_update_imports_cell('import numpy as np'); }\n",
       "    "
      ],
      "text/plain": [
       "<IPython.core.display.Javascript object>"
      ]
     },
     "metadata": {},
     "output_type": "display_data"
    },
    {
     "data": {
      "text/plain": [
       "0           0.0\n",
       "1           0.0\n",
       "2           0.0\n",
       "3           1.0\n",
       "4           2.0\n",
       "           ... \n",
       "1687856     0.0\n",
       "1687857     0.0\n",
       "1687858    12.0\n",
       "1687859     1.0\n",
       "1687860     NaN\n",
       "Name: min_bank, Length: 1687861, dtype: float64"
      ]
     },
     "execution_count": 5,
     "metadata": {},
     "output_type": "execute_result"
    }
   ],
   "source": [
    "np.round(BOP_train[\"min_bank\"])"
   ]
  },
  {
   "cell_type": "code",
   "execution_count": 65,
   "metadata": {},
   "outputs": [],
   "source": [
    "BOP1 = BOP_train[bo_features]\n",
    "categorical_features1 = categorical_features.copy()"
   ]
  },
  {
   "cell_type": "code",
   "execution_count": 69,
   "metadata": {},
   "outputs": [
    {
     "name": "stdout",
     "output_type": "stream",
     "text": [
      "['deck_risk', 'ppap_risk', 'stop_auto_buy']\n"
     ]
    }
   ],
   "source": [
    "for feature in categorical_features:\n",
    "    if feature not in BOP1.columns:\n",
    "        categorical_features1.remove(feature)\n",
    "print(categorical_features1)"
   ]
  },
  {
   "cell_type": "code",
   "execution_count": 62,
   "metadata": {},
   "outputs": [
    {
     "name": "stdout",
     "output_type": "stream",
     "text": [
      "['potential_issue', 'deck_risk', 'oe_constraint', 'ppap_risk', 'stop_auto_buy', 'rev_stop', 'went_on_backorder']\n"
     ]
    }
   ],
   "source": [
    "print(categorical_features)"
   ]
  },
  {
   "cell_type": "code",
   "execution_count": 51,
   "metadata": {},
   "outputs": [
    {
     "name": "stdout",
     "output_type": "stream",
     "text": [
      "['national_inv', 'lead_time', 'in_transit_qty', 'forecast_9_month', 'sales_9_month', 'perf_6_month_avg', 'min_bank', 'pieces_past_due', 'local_bo_qty', 'deck_risk', 'ppap_risk', 'stop_auto_buy']\n"
     ]
    }
   ],
   "source": [
    "print(list(BOP1.columns))"
   ]
  },
  {
   "cell_type": "code",
   "execution_count": 55,
   "metadata": {},
   "outputs": [
    {
     "data": {
      "text/plain": [
       "True"
      ]
     },
     "execution_count": 55,
     "metadata": {},
     "output_type": "execute_result"
    }
   ],
   "source": [
    "\"went_on_backorder\" not in BOP1.columns"
   ]
  },
  {
   "cell_type": "code",
   "execution_count": 1,
   "metadata": {},
   "outputs": [
    {
     "name": "stderr",
     "output_type": "stream",
     "text": [
      "C:\\Users\\mural\\anaconda3\\lib\\site-packages\\IPython\\core\\interactiveshell.py:3071: DtypeWarning: Columns (0) have mixed types.Specify dtype option on import or set low_memory=False.\n",
      "  has_raised = await self.run_ast_nodes(code_ast.body, cell_name,\n"
     ]
    },
    {
     "data": {
      "application/javascript": [
       "\n",
       "        if (window._pyforest_update_imports_cell) { window._pyforest_update_imports_cell('import numpy as np'); }\n",
       "    "
      ],
      "text/plain": [
       "<IPython.core.display.Javascript object>"
      ]
     },
     "metadata": {},
     "output_type": "display_data"
    },
    {
     "data": {
      "application/javascript": [
       "\n",
       "        if (window._pyforest_update_imports_cell) { window._pyforest_update_imports_cell('import numpy as np'); }\n",
       "    "
      ],
      "text/plain": [
       "<IPython.core.display.Javascript object>"
      ]
     },
     "metadata": {},
     "output_type": "display_data"
    },
    {
     "data": {
      "application/javascript": [
       "\n",
       "        if (window._pyforest_update_imports_cell) { window._pyforest_update_imports_cell('import numpy as np'); }\n",
       "    "
      ],
      "text/plain": [
       "<IPython.core.display.Javascript object>"
      ]
     },
     "metadata": {},
     "output_type": "display_data"
    },
    {
     "data": {
      "application/javascript": [
       "\n",
       "        if (window._pyforest_update_imports_cell) { window._pyforest_update_imports_cell('import numpy as np'); }\n",
       "    "
      ],
      "text/plain": [
       "<IPython.core.display.Javascript object>"
      ]
     },
     "metadata": {},
     "output_type": "display_data"
    }
   ],
   "source": [
    "import pandas as pd\n",
    "BOP_train = pd.read_csv(\"D:/DataScience/02 INEURON/ML_Projects/Internal Projects (Practicing)/Work/Masters Projects/Back Order Prediction/BOP Project/dataset/Training_BOP.csv\")\n",
    "BOP_train.drop(['sku'], axis=1, inplace=True)\n",
    "\n",
    "categorical_features = ['potential_issue', 'deck_risk', 'oe_constraint', 'ppap_risk', 'stop_auto_buy', 'rev_stop', 'went_on_backorder']\n",
    "numerical_features = ['national_inv', 'lead_time', 'in_transit_qty', 'forecast_3_month', 'forecast_6_month', 'forecast_9_month', 'sales_1_month', 'sales_3_month', 'sales_6_month', 'sales_9_month', 'min_bank', 'pieces_past_due', 'perf_6_month_avg', 'perf_12_month_avg', 'local_bo_qty']\n",
    "\n",
    "# Drop the indices which are having NULL values percentage more than 80%.\n",
    "nullIndices = BOP_train.index[(BOP_train.isnull().sum(axis=1))/len(BOP_train.columns)>0.8]\n",
    "BOP_train.drop(nullIndices, inplace=True)  # Droping the rows which have percentage of null values more than 80%.\n",
    "\n",
    "# Replacing NULL values of 'lead_time' by its mean.\n",
    "lead_time_mean = np.round(BOP_train[\"lead_time\"].mean())\n",
    "lead_time_null_index = BOP_train[BOP_train[\"lead_time\"].isnull()].index\n",
    "BOP_train.loc[lead_time_null_index, \"lead_time\"] = lead_time_mean\n",
    "\n",
    "# Imputing NULL values of 'national_inv' \n",
    "national_inv_mean = np.round(BOP_train[BOP_train[\"national_inv\"]!=-99][\"national_inv\"].mean())\n",
    "national_inv_99_index = BOP_train[BOP_train[\"national_inv\"]==-99].index\n",
    "BOP_train.loc[national_inv_99_index, \"national_inv\"] = national_inv_mean\n",
    "\n",
    "# Imputing NULL values of 'perf_6_month_avg' \n",
    "perf_6_month_avg_mean = np.round(BOP_train[BOP_train[\"perf_6_month_avg\"]>0][\"perf_6_month_avg\"].mean())\n",
    "perf_6_month_avg_99_index = BOP_train[BOP_train[\"perf_6_month_avg\"]<0][\"perf_6_month_avg\"].index\n",
    "BOP_train.loc[perf_6_month_avg_99_index, \"perf_6_month_avg\"] = perf_6_month_avg_mean\n",
    "\n",
    "# Imputing NULL values of 'perf_12_month_avg' \n",
    "perf_12_month_avg_mean = np.round(BOP_train[BOP_train[\"perf_12_month_avg\"]>0][\"perf_12_month_avg\"].mean())\n",
    "perf_12_month_avg_99_index = BOP_train[BOP_train[\"perf_12_month_avg\"]<0][\"perf_12_month_avg\"].index\n",
    "BOP_train.loc[perf_12_month_avg_99_index, \"perf_12_month_avg\"] = perf_12_month_avg_mean\n",
    "\n",
    "# Converting Categorical to Numerical\n",
    "for feature in categorical_features:\n",
    "    BOP_train[feature] = BOP_train[feature].map({'No':0, 'Yes':1})\n",
    "\n",
    "# Storing Cleaned data into csv file\n",
    "BOP_train.to_csv(\"D:/DataScience/02 INEURON/ML_Projects/Internal Projects (Practicing)/Work/Masters Projects/Back Order Prediction/BOP Project/dataset/BOP_Cleaned_Train.csv\")"
   ]
  },
  {
   "cell_type": "code",
   "execution_count": 2,
   "metadata": {},
   "outputs": [],
   "source": [
    "df = BOP_train.copy()"
   ]
  },
  {
   "cell_type": "code",
   "execution_count": 3,
   "metadata": {},
   "outputs": [
    {
     "data": {
      "text/plain": [
       "<matplotlib.axes._subplots.AxesSubplot at 0x22bb4baccd0>"
      ]
     },
     "execution_count": 3,
     "metadata": {},
     "output_type": "execute_result"
    },
    {
     "data": {
      "image/png": "[encoded data removed]",
      "text/plain": [
       "<Figure size 720x720 with 1 Axes>"
      ]
     },
     "metadata": {
      "needs_background": "light"
     },
     "output_type": "display_data"
    }
   ],
   "source": [
    "X = df.drop(\"went_on_backorder\", axis=1)\n",
    "Y = df[\"went_on_backorder\"]\n",
    "\n",
    "from sklearn.feature_selection import mutual_info_classif\n",
    "import matplotlib.pyplot as plt\n",
    "%matplotlib inline\n",
    "\n",
    "importances = mutual_info_classif(X, Y)\n",
    "\n",
    "featureImportances = pd.Series(importances, X.columns)\n",
    "featureImportances = featureImportances.sort_values(ascending=False)\n",
    "\n",
    "plt.figure(figsize=(10, 10))\n",
    "featureImportances.plot(kind=\"barh\", color=\"teal\")"
   ]
  },
  {
   "cell_type": "code",
   "execution_count": null,
   "metadata": {},
   "outputs": [],
   "source": []
  }
 ],
 "metadata": {
  "kernelspec": {
   "display_name": "Python 3",
   "language": "python",
   "name": "python3"
  },
  "language_info": {
   "codemirror_mode": {
    "name": "ipython",
    "version": 3
   },
   "file_extension": ".py",
   "mimetype": "text/x-python",
   "name": "python",
   "nbconvert_exporter": "python",
   "pygments_lexer": "ipython3",
   "version": "3.8.3"
  }
 },
 "nbformat": 4,
 "nbformat_minor": 4
}
